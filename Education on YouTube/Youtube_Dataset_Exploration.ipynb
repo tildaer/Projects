{
 "cells": [
  {
   "cell_type": "markdown",
   "metadata": {},
   "source": [
    "# Youtube Trending Data: Market Analysis\n",
    "The dataset includes videos that have been \"trending\" on youtube in the specified countries within a specified time"
   ]
  },
  {
   "cell_type": "code",
   "execution_count": 197,
   "metadata": {},
   "outputs": [],
   "source": [
    "# Created by Matilda Eriksson at 2021-01-27\n",
    "# Data source: https://www.kaggle.com/datasnaek/youtube-new"
   ]
  },
  {
   "cell_type": "markdown",
   "metadata": {},
   "source": [
    "<b>This report is made for a (fictional) client who teaches math on YouTube. The goal is to explore the current market of YouTube Education and gather relevant insights based on the dataset given. The \"client\" teaches his classes in English and I have therefore chosen to look at the available english speaking countries data. </b>"
   ]
  },
  {
   "cell_type": "code",
   "execution_count": 1,
   "metadata": {},
   "outputs": [],
   "source": [
    "import pandas as pd\n",
    "import numpy as np\n",
    "from matplotlib import pyplot as plt\n",
    "import seaborn as sns\n",
    "import datetime as dt\n",
    "%matplotlib inline"
   ]
  },
  {
   "cell_type": "code",
   "execution_count": 2,
   "metadata": {},
   "outputs": [],
   "source": [
    "ca = pd.read_csv('CAvideos.csv')\n",
    "gb = pd.read_csv('GBvideos.csv')\n",
    "us = pd.read_csv('USvideos.csv')"
   ]
  },
  {
   "cell_type": "code",
   "execution_count": 3,
   "metadata": {},
   "outputs": [],
   "source": [
    "# Convert time data\n",
    "ca['publish_time'] = pd.to_datetime(ca['publish_time'], format='%Y-%m-%dT%H:%M:%S.%fZ')\n",
    "ca['trending_date'] = pd.to_datetime(ca['trending_date'], format='%y.%d.%m')\n",
    "\n",
    "gb['publish_time'] = pd.to_datetime(gb['publish_time'], format='%Y-%m-%dT%H:%M:%S.%fZ')\n",
    "gb['trending_date'] = pd.to_datetime(gb['trending_date'], format='%y.%d.%m')\n",
    "\n",
    "us['publish_time'] = pd.to_datetime(us['publish_time'], format='%Y-%m-%dT%H:%M:%S.%fZ')\n",
    "us['trending_date'] = pd.to_datetime(us['trending_date'], format='%y.%d.%m')"
   ]
  },
  {
   "cell_type": "code",
   "execution_count": 4,
   "metadata": {},
   "outputs": [],
   "source": [
    "# Add country labels \n",
    "ca['country'] = 'CA'\n",
    "gb['country'] = 'GB'\n",
    "us['country'] = 'US'"
   ]
  },
  {
   "cell_type": "code",
   "execution_count": 5,
   "metadata": {},
   "outputs": [],
   "source": [
    "# Concatenate dataframes\n",
    "df1 = pd.concat([ca, gb, us])"
   ]
  },
  {
   "cell_type": "code",
   "execution_count": 6,
   "metadata": {},
   "outputs": [],
   "source": [
    "# Add year and month column for future analysis\n",
    "df1['year'] = pd.DatetimeIndex(df1['publish_time']).year\n",
    "df1['month'] = pd.DatetimeIndex(df1['publish_time']).month"
   ]
  },
  {
   "cell_type": "code",
   "execution_count": 7,
   "metadata": {},
   "outputs": [
    {
     "name": "stdout",
     "output_type": "stream",
     "text": [
      "<class 'pandas.core.frame.DataFrame'>\n",
      "Int64Index: 120746 entries, 0 to 40948\n",
      "Data columns (total 19 columns):\n",
      " #   Column                  Non-Null Count   Dtype         \n",
      "---  ------                  --------------   -----         \n",
      " 0   video_id                120746 non-null  object        \n",
      " 1   trending_date           120746 non-null  datetime64[ns]\n",
      " 2   title                   120746 non-null  object        \n",
      " 3   channel_title           120746 non-null  object        \n",
      " 4   category_id             120746 non-null  int64         \n",
      " 5   publish_time            120746 non-null  datetime64[ns]\n",
      " 6   tags                    120746 non-null  object        \n",
      " 7   views                   120746 non-null  int64         \n",
      " 8   likes                   120746 non-null  int64         \n",
      " 9   dislikes                120746 non-null  int64         \n",
      " 10  comment_count           120746 non-null  int64         \n",
      " 11  thumbnail_link          120746 non-null  object        \n",
      " 12  comments_disabled       120746 non-null  bool          \n",
      " 13  ratings_disabled        120746 non-null  bool          \n",
      " 14  video_error_or_removed  120746 non-null  bool          \n",
      " 15  description             118268 non-null  object        \n",
      " 16  country                 120746 non-null  object        \n",
      " 17  year                    120746 non-null  int64         \n",
      " 18  month                   120746 non-null  int64         \n",
      "dtypes: bool(3), datetime64[ns](2), int64(7), object(7)\n",
      "memory usage: 16.0+ MB\n"
     ]
    }
   ],
   "source": [
    "# Inspect the DataFrame\n",
    "df1.info()\n",
    "#df.head()"
   ]
  },
  {
   "cell_type": "code",
   "execution_count": 8,
   "metadata": {},
   "outputs": [
    {
     "data": {
      "text/plain": [
       "year\n",
       "2006        1\n",
       "2007       37\n",
       "2008       59\n",
       "2009       28\n",
       "2010       56\n",
       "2011      112\n",
       "2012       39\n",
       "2013      115\n",
       "2014      104\n",
       "2015      135\n",
       "2016      106\n",
       "2017    31365\n",
       "2018    88589\n",
       "Name: video_id, dtype: int64"
      ]
     },
     "execution_count": 8,
     "metadata": {},
     "output_type": "execute_result"
    }
   ],
   "source": [
    "# Investigate what time range to pick for the analysis\n",
    "df1.groupby('year').video_id.agg('count')"
   ]
  },
  {
   "cell_type": "markdown",
   "metadata": {},
   "source": [
    "<b>I chose to do my analysis over a six month period during 2018. \n",
    "I would have prefered a whole year but chose this due to lack of data. I estimate that the amount of data is enough for this brief level of analysis though.</b>"
   ]
  },
  {
   "cell_type": "code",
   "execution_count": 9,
   "metadata": {},
   "outputs": [],
   "source": [
    "df = df1[df1['year'] == 2018].reset_index(drop=True)"
   ]
  },
  {
   "cell_type": "code",
   "execution_count": 10,
   "metadata": {},
   "outputs": [],
   "source": [
    "# Adding comments ratio for later analysis\n",
    "df['comments_ratio'] = 100 * df['comment_count'] / df['views']\n",
    "df['comments_ratio'] = np.round(df.comments_ratio, 2)"
   ]
  },
  {
   "cell_type": "code",
   "execution_count": 11,
   "metadata": {},
   "outputs": [],
   "source": [
    "# Adding timedelta for later analysis\n",
    "df['time_until_trending'] = (df['trending_date'] - df['publish_time']).dt.round(freq='D')"
   ]
  },
  {
   "cell_type": "code",
   "execution_count": 209,
   "metadata": {},
   "outputs": [
    {
     "data": {
      "text/html": [
       "<div>\n",
       "<style scoped>\n",
       "    .dataframe tbody tr th:only-of-type {\n",
       "        vertical-align: middle;\n",
       "    }\n",
       "\n",
       "    .dataframe tbody tr th {\n",
       "        vertical-align: top;\n",
       "    }\n",
       "\n",
       "    .dataframe thead th {\n",
       "        text-align: right;\n",
       "    }\n",
       "</style>\n",
       "<table border=\"1\" class=\"dataframe\">\n",
       "  <thead>\n",
       "    <tr style=\"text-align: right;\">\n",
       "      <th></th>\n",
       "      <th>video_id</th>\n",
       "      <th>trending_date</th>\n",
       "      <th>title</th>\n",
       "      <th>channel_title</th>\n",
       "      <th>category_id</th>\n",
       "      <th>publish_time</th>\n",
       "      <th>tags</th>\n",
       "      <th>views</th>\n",
       "      <th>likes</th>\n",
       "      <th>dislikes</th>\n",
       "      <th>...</th>\n",
       "      <th>thumbnail_link</th>\n",
       "      <th>comments_disabled</th>\n",
       "      <th>ratings_disabled</th>\n",
       "      <th>video_error_or_removed</th>\n",
       "      <th>description</th>\n",
       "      <th>country</th>\n",
       "      <th>year</th>\n",
       "      <th>month</th>\n",
       "      <th>comments_ratio</th>\n",
       "      <th>time_until_trending</th>\n",
       "    </tr>\n",
       "  </thead>\n",
       "  <tbody>\n",
       "    <tr>\n",
       "      <th>0</th>\n",
       "      <td>21EJMIdK1_g</td>\n",
       "      <td>2018-01-01</td>\n",
       "      <td>London Fireworks 2018 LIVE - New Year's Eve Fi...</td>\n",
       "      <td>BBC</td>\n",
       "      <td>24</td>\n",
       "      <td>2018-01-01 00:21:00</td>\n",
       "      <td>BBC|\"fireworks\"|\"NYE\"|\"new year\"|\"countdown\"|\"...</td>\n",
       "      <td>475127</td>\n",
       "      <td>8079</td>\n",
       "      <td>224</td>\n",
       "      <td>...</td>\n",
       "      <td>https://i.ytimg.com/vi/21EJMIdK1_g/default.jpg</td>\n",
       "      <td>False</td>\n",
       "      <td>False</td>\n",
       "      <td>False</td>\n",
       "      <td>Programme website: http://bbc.in/2BsMv4k Count...</td>\n",
       "      <td>CA</td>\n",
       "      <td>2018</td>\n",
       "      <td>1</td>\n",
       "      <td>0.17</td>\n",
       "      <td>0 days</td>\n",
       "    </tr>\n",
       "    <tr>\n",
       "      <th>1</th>\n",
       "      <td>WuV_KvK9Tqk</td>\n",
       "      <td>2018-01-01</td>\n",
       "      <td>New Year 2018: celebrations around the world</td>\n",
       "      <td>The Telegraph</td>\n",
       "      <td>25</td>\n",
       "      <td>2018-01-01 00:54:56</td>\n",
       "      <td>Telegraph|\"News\"|\"World News\"|\"UK Newspaper\"|\"...</td>\n",
       "      <td>65997</td>\n",
       "      <td>522</td>\n",
       "      <td>20</td>\n",
       "      <td>...</td>\n",
       "      <td>https://i.ytimg.com/vi/WuV_KvK9Tqk/default.jpg</td>\n",
       "      <td>False</td>\n",
       "      <td>False</td>\n",
       "      <td>False</td>\n",
       "      <td>The world welcomes the start of a new year as ...</td>\n",
       "      <td>CA</td>\n",
       "      <td>2018</td>\n",
       "      <td>1</td>\n",
       "      <td>0.06</td>\n",
       "      <td>0 days</td>\n",
       "    </tr>\n",
       "    <tr>\n",
       "      <th>2</th>\n",
       "      <td>KtwVjaO8CwM</td>\n",
       "      <td>2018-01-01</td>\n",
       "      <td>London New Year's Eve 2018 - Fireworks From Lo...</td>\n",
       "      <td>BrioTV</td>\n",
       "      <td>17</td>\n",
       "      <td>2018-01-01 00:38:41</td>\n",
       "      <td>[none]</td>\n",
       "      <td>84662</td>\n",
       "      <td>653</td>\n",
       "      <td>41</td>\n",
       "      <td>...</td>\n",
       "      <td>https://i.ytimg.com/vi/KtwVjaO8CwM/default.jpg</td>\n",
       "      <td>False</td>\n",
       "      <td>False</td>\n",
       "      <td>False</td>\n",
       "      <td>LONDON welcomes in 2018 with stunning FIREWORK...</td>\n",
       "      <td>CA</td>\n",
       "      <td>2018</td>\n",
       "      <td>1</td>\n",
       "      <td>0.10</td>\n",
       "      <td>0 days</td>\n",
       "    </tr>\n",
       "    <tr>\n",
       "      <th>3</th>\n",
       "      <td>HsscqYIznPo</td>\n",
       "      <td>2018-01-01</td>\n",
       "      <td>Why I'm Deleting SkyDoesMinecraft (Midnight HST)</td>\n",
       "      <td>Sky Did Minecraft</td>\n",
       "      <td>24</td>\n",
       "      <td>2018-01-01 02:46:58</td>\n",
       "      <td>Gaming|\"Minecraft\"|\"SkyDoesMinecraft\"|\"Quittin...</td>\n",
       "      <td>193053</td>\n",
       "      <td>21294</td>\n",
       "      <td>2596</td>\n",
       "      <td>...</td>\n",
       "      <td>https://i.ytimg.com/vi/HsscqYIznPo/default.jpg</td>\n",
       "      <td>False</td>\n",
       "      <td>False</td>\n",
       "      <td>False</td>\n",
       "      <td>I put the wrong time in the video, midnight HS...</td>\n",
       "      <td>CA</td>\n",
       "      <td>2018</td>\n",
       "      <td>1</td>\n",
       "      <td>30.05</td>\n",
       "      <td>0 days</td>\n",
       "    </tr>\n",
       "    <tr>\n",
       "      <th>4</th>\n",
       "      <td>w9wFRvhme5c</td>\n",
       "      <td>2018-01-01</td>\n",
       "      <td>Atlantic Stream - Canada's New Years Eve: Coun...</td>\n",
       "      <td>CBC</td>\n",
       "      <td>24</td>\n",
       "      <td>2018-01-01 04:09:46</td>\n",
       "      <td>New Years eve|\"New Years eve 2018\"|\"New Years ...</td>\n",
       "      <td>33637</td>\n",
       "      <td>116</td>\n",
       "      <td>14</td>\n",
       "      <td>...</td>\n",
       "      <td>https://i.ytimg.com/vi/w9wFRvhme5c/default.jpg</td>\n",
       "      <td>False</td>\n",
       "      <td>False</td>\n",
       "      <td>False</td>\n",
       "      <td>As Canada counts down to 2018, CBC brings Cana...</td>\n",
       "      <td>CA</td>\n",
       "      <td>2018</td>\n",
       "      <td>1</td>\n",
       "      <td>0.03</td>\n",
       "      <td>0 days</td>\n",
       "    </tr>\n",
       "  </tbody>\n",
       "</table>\n",
       "<p>5 rows × 21 columns</p>\n",
       "</div>"
      ],
      "text/plain": [
       "      video_id trending_date  \\\n",
       "0  21EJMIdK1_g    2018-01-01   \n",
       "1  WuV_KvK9Tqk    2018-01-01   \n",
       "2  KtwVjaO8CwM    2018-01-01   \n",
       "3  HsscqYIznPo    2018-01-01   \n",
       "4  w9wFRvhme5c    2018-01-01   \n",
       "\n",
       "                                               title      channel_title  \\\n",
       "0  London Fireworks 2018 LIVE - New Year's Eve Fi...                BBC   \n",
       "1       New Year 2018: celebrations around the world      The Telegraph   \n",
       "2  London New Year's Eve 2018 - Fireworks From Lo...             BrioTV   \n",
       "3   Why I'm Deleting SkyDoesMinecraft (Midnight HST)  Sky Did Minecraft   \n",
       "4  Atlantic Stream - Canada's New Years Eve: Coun...                CBC   \n",
       "\n",
       "   category_id        publish_time  \\\n",
       "0           24 2018-01-01 00:21:00   \n",
       "1           25 2018-01-01 00:54:56   \n",
       "2           17 2018-01-01 00:38:41   \n",
       "3           24 2018-01-01 02:46:58   \n",
       "4           24 2018-01-01 04:09:46   \n",
       "\n",
       "                                                tags   views  likes  dislikes  \\\n",
       "0  BBC|\"fireworks\"|\"NYE\"|\"new year\"|\"countdown\"|\"...  475127   8079       224   \n",
       "1  Telegraph|\"News\"|\"World News\"|\"UK Newspaper\"|\"...   65997    522        20   \n",
       "2                                             [none]   84662    653        41   \n",
       "3  Gaming|\"Minecraft\"|\"SkyDoesMinecraft\"|\"Quittin...  193053  21294      2596   \n",
       "4  New Years eve|\"New Years eve 2018\"|\"New Years ...   33637    116        14   \n",
       "\n",
       "   ...                                  thumbnail_link comments_disabled  \\\n",
       "0  ...  https://i.ytimg.com/vi/21EJMIdK1_g/default.jpg             False   \n",
       "1  ...  https://i.ytimg.com/vi/WuV_KvK9Tqk/default.jpg             False   \n",
       "2  ...  https://i.ytimg.com/vi/KtwVjaO8CwM/default.jpg             False   \n",
       "3  ...  https://i.ytimg.com/vi/HsscqYIznPo/default.jpg             False   \n",
       "4  ...  https://i.ytimg.com/vi/w9wFRvhme5c/default.jpg             False   \n",
       "\n",
       "   ratings_disabled  video_error_or_removed  \\\n",
       "0             False                   False   \n",
       "1             False                   False   \n",
       "2             False                   False   \n",
       "3             False                   False   \n",
       "4             False                   False   \n",
       "\n",
       "                                         description country  year  month  \\\n",
       "0  Programme website: http://bbc.in/2BsMv4k Count...      CA  2018      1   \n",
       "1  The world welcomes the start of a new year as ...      CA  2018      1   \n",
       "2  LONDON welcomes in 2018 with stunning FIREWORK...      CA  2018      1   \n",
       "3  I put the wrong time in the video, midnight HS...      CA  2018      1   \n",
       "4  As Canada counts down to 2018, CBC brings Cana...      CA  2018      1   \n",
       "\n",
       "   comments_ratio  time_until_trending  \n",
       "0            0.17               0 days  \n",
       "1            0.06               0 days  \n",
       "2            0.10               0 days  \n",
       "3           30.05               0 days  \n",
       "4            0.03               0 days  \n",
       "\n",
       "[5 rows x 21 columns]"
      ]
     },
     "execution_count": 209,
     "metadata": {},
     "output_type": "execute_result"
    }
   ],
   "source": [
    "df.head()"
   ]
  },
  {
   "cell_type": "code",
   "execution_count": 12,
   "metadata": {},
   "outputs": [],
   "source": [
    "# Check for duplicates\n",
    "is_duplicate = df.duplicated(subset='video_id')\n",
    "duplicated_values = df[is_duplicate].sort_values(by=['video_id', 'views', ])"
   ]
  },
  {
   "cell_type": "markdown",
   "metadata": {},
   "source": [
    "<b>There seems to be duplicate rows for video_id's that have several trending_date's. \n",
    "Depending on what I would like to know, I will have to remove duplicates based on different conditions.\n",
    "\n",
    "For a bar plot showing total trending video_is's per category, my result is not impacted by what row I choose to keep. I will keep the unique video_id's with the latest trending date since I will use that later. </b>"
   ]
  },
  {
   "cell_type": "code",
   "execution_count": 13,
   "metadata": {},
   "outputs": [],
   "source": [
    "df_unique_last = df.sort_values(by=['video_id','trending_date'], ascending=True).reset_index(drop=True)\n",
    "df_unique_last.drop_duplicates(subset='video_id', keep='last', inplace=True)"
   ]
  },
  {
   "cell_type": "code",
   "execution_count": 28,
   "metadata": {},
   "outputs": [],
   "source": [
    "top_categories = df_unique_last.groupby('category_id', as_index=False).video_id.count().reset_index(drop=True)\n",
    "top_categories.sort_values(by='video_id', ascending=False, inplace=True)\n",
    "#top_categories"
   ]
  },
  {
   "cell_type": "markdown",
   "metadata": {},
   "source": [
    "<b>When investigation this dataset and also looking at YouTube, I found that not all big math teaching channels are under the 'Education' category. Some of them goes under the category 'Science & Technology'. I will therefore include both of these categories when making category specific analysis.</b>"
   ]
  },
  {
   "cell_type": "code",
   "execution_count": 22,
   "metadata": {},
   "outputs": [
    {
     "data": {
      "text/plain": [
       "<Figure size 432x288 with 0 Axes>"
      ]
     },
     "metadata": {},
     "output_type": "display_data"
    },
    {
     "data": {
      "image/png": "[encoded data removed]",
      "text/plain": [
       "<Figure size 936x432 with 1 Axes>"
      ]
     },
     "metadata": {},
     "output_type": "display_data"
    }
   ],
   "source": [
    "# A summary of Educations proportion on YT\n",
    "plt.clf()\n",
    "fig, ax = plt.subplots(figsize=(13,6))\n",
    "sns.set_theme(style=\"whitegrid\")\n",
    "clrs = ['orange' if (x == 27 or x == 28) else 'cornflowerblue' for x in top_categories.category_id]\n",
    "fig = sns.barplot(x='category_id', y=\"video_id\", data=top_categories,\n",
    "            ci=None, palette=clrs, order=top_categories['category_id'])\n",
    "\n",
    "\n",
    "#plt.yscale('log')\n",
    "plt.xticks(ticks=np.arange(0,17), labels=['Entertainment', 'News & Politics',\n",
    "                                          'People & Blogs', 'Sports', 'Music',\n",
    "                                          'Comedy', 'Howto & Style', 'Film & Animation',\n",
    "                                          'Gaming', 'Science & Technology', 'Education', 'Pets & Animals',\n",
    "                                          'Autos & Vehicles', 'Travel & Events', 'Shows',\n",
    "                                          'Nonprofits & Activism', 'Trailers']\n",
    "           , rotation=70, size=11, weight='demi')\n",
    "ax.set_xlabel('Category', size=15, weight='bold')\n",
    "ax.set_ylabel('Videos Trending', size=15, weight='bold')\n",
    "\n",
    "plt.yticks(ticks = [500, 1000, 2000, 3000, 4000, 5000, 6000, 7000],\n",
    "           labels=['500', '1000', '2000', '3000', '4000', '5000', '6000', '7000'], weight='demi')\n",
    "ax.set_title('Views per Category - Trending Youtube Videos', size=20, weight='bold')\n",
    "sns.despine(left=True, bottom=True, right=True)\n",
    "#plt.savefig('temp.png', transparent=True, bbox_inches='tight')\n",
    "plt.show()"
   ]
  },
  {
   "cell_type": "markdown",
   "metadata": {},
   "source": [
    "<b>I'd like to know if videos within our categories of interest receive more or less comments than the other categories.</b>"
   ]
  },
  {
   "cell_type": "code",
   "execution_count": 24,
   "metadata": {},
   "outputs": [],
   "source": [
    "mean_comments_ratio = df_unique_last.groupby('category_id', as_index=False).comments_ratio.agg(np.mean).reset_index(drop=True)\n",
    "mean_comments_ratio.sort_values(by='comments_ratio', ascending=False, inplace=True)"
   ]
  },
  {
   "cell_type": "code",
   "execution_count": 25,
   "metadata": {},
   "outputs": [
    {
     "data": {
      "text/plain": [
       "0.5044956902855727"
      ]
     },
     "execution_count": 25,
     "metadata": {},
     "output_type": "execute_result"
    }
   ],
   "source": [
    "mean_comments_ratio_all = 100 * np.mean(df_unique_last['comment_count'] / df_unique_last['views'])\n",
    "mean_comments_ratio_all"
   ]
  },
  {
   "cell_type": "code",
   "execution_count": 26,
   "metadata": {},
   "outputs": [
    {
     "data": {
      "text/plain": [
       "<Figure size 432x288 with 0 Axes>"
      ]
     },
     "metadata": {},
     "output_type": "display_data"
    },
    {
     "data": {
      "image/png": "[encoded data removed]",
      "text/plain": [
       "<Figure size 936x432 with 1 Axes>"
      ]
     },
     "metadata": {},
     "output_type": "display_data"
    }
   ],
   "source": [
    "# Plot comments ratio per category\n",
    "import matplotlib.ticker as mtick\n",
    "plt.clf()\n",
    "fig, ax = plt.subplots(figsize=(13,6))\n",
    "sns.set_theme(style=\"whitegrid\")\n",
    "clrs = ['orange' if (x == 27 or x == 28) else 'cornflowerblue' for x in mean_comments_ratio.category_id]\n",
    "fig = sns.barplot(x='category_id', y=\"comments_ratio\", data=mean_comments_ratio,\n",
    "            ci=None, palette=clrs, order=mean_comments_ratio['category_id'])\n",
    "\n",
    "ax.set_xlabel('Category', size=15, weight='bold')\n",
    "ax.set_ylabel('Comments ratio in %', size=15, weight='bold')\n",
    "plt.yticks(ticks = [0, 0.2, 0.4, 0.6, 0.8, 1.0],\n",
    "           labels=['0.0%', '0.2%', '0.4%', '0.6%', '0.8%', '1.0%'], weight='demi')\n",
    "ax.set_title('Comments ratio per Category', size=20, weight='bold')\n",
    "\n",
    "plt.xticks(ticks=np.arange(0,17), labels=['News & Politics', 'Gaming', 'Nonprotif & Activism',\n",
    "                                          'Education', 'Pets & Animals', 'Science & Technology',\n",
    "                                          'Autos & Vehicles', 'Howto & Style', 'Comedy', 'People & Blogs',\n",
    "                                          'Travel & Events', 'Film & Animation', 'Entertainment',  \n",
    "                                          'Music', 'Sports', 'Shows', 'Trailers'],\n",
    "           rotation=70, size=11, weight='demi')\n",
    "sns.despine(left=True, bottom=True, right=True)\n",
    "#plt.savefig('temp2.png', transparent=True, bbox_inches='tight')\n",
    "plt.show()"
   ]
  },
  {
   "cell_type": "markdown",
   "metadata": {},
   "source": [
    "<b>Time for some insights about our specified categories of interest: Education and Science & Technology</b>"
   ]
  },
  {
   "cell_type": "code",
   "execution_count": 27,
   "metadata": {},
   "outputs": [
    {
     "data": {
      "text/html": [
       "<div>\n",
       "<style scoped>\n",
       "    .dataframe tbody tr th:only-of-type {\n",
       "        vertical-align: middle;\n",
       "    }\n",
       "\n",
       "    .dataframe tbody tr th {\n",
       "        vertical-align: top;\n",
       "    }\n",
       "\n",
       "    .dataframe thead th {\n",
       "        text-align: right;\n",
       "    }\n",
       "</style>\n",
       "<table border=\"1\" class=\"dataframe\">\n",
       "  <thead>\n",
       "    <tr style=\"text-align: right;\">\n",
       "      <th></th>\n",
       "      <th>video_id</th>\n",
       "      <th>trending_date</th>\n",
       "      <th>title</th>\n",
       "      <th>channel_title</th>\n",
       "      <th>category_id</th>\n",
       "      <th>publish_time</th>\n",
       "      <th>tags</th>\n",
       "      <th>views</th>\n",
       "      <th>likes</th>\n",
       "      <th>dislikes</th>\n",
       "      <th>...</th>\n",
       "      <th>thumbnail_link</th>\n",
       "      <th>comments_disabled</th>\n",
       "      <th>ratings_disabled</th>\n",
       "      <th>video_error_or_removed</th>\n",
       "      <th>description</th>\n",
       "      <th>country</th>\n",
       "      <th>year</th>\n",
       "      <th>month</th>\n",
       "      <th>comments_ratio</th>\n",
       "      <th>time_until_trending</th>\n",
       "    </tr>\n",
       "  </thead>\n",
       "  <tbody>\n",
       "    <tr>\n",
       "      <th>382</th>\n",
       "      <td>-0DjA_r32uQ</td>\n",
       "      <td>2018-02-14</td>\n",
       "      <td>2.12 - Q &amp; Current Event Analysis from Feb 11t...</td>\n",
       "      <td>Destroying the Illusion</td>\n",
       "      <td>27</td>\n",
       "      <td>2018-02-12 23:44:59</td>\n",
       "      <td>jordan sather|\"destroying the illusion\"|\"qanon...</td>\n",
       "      <td>57494</td>\n",
       "      <td>2190</td>\n",
       "      <td>62</td>\n",
       "      <td>...</td>\n",
       "      <td>https://i.ytimg.com/vi/-0DjA_r32uQ/default.jpg</td>\n",
       "      <td>False</td>\n",
       "      <td>False</td>\n",
       "      <td>False</td>\n",
       "      <td>Find me on:\\nhttp://www.destroyingtheillusion....</td>\n",
       "      <td>CA</td>\n",
       "      <td>2018</td>\n",
       "      <td>2</td>\n",
       "      <td>1.34</td>\n",
       "      <td>1 days</td>\n",
       "    </tr>\n",
       "    <tr>\n",
       "      <th>1049</th>\n",
       "      <td>-0Rj7qcLu1A</td>\n",
       "      <td>2018-04-25</td>\n",
       "      <td>The moment Jordan Peterson asked a hard questi...</td>\n",
       "      <td>Mind Temple</td>\n",
       "      <td>27</td>\n",
       "      <td>2018-04-24 05:06:55</td>\n",
       "      <td>2018|\"Jordan peterson\"|\"jordan peterson cathy ...</td>\n",
       "      <td>507781</td>\n",
       "      <td>5224</td>\n",
       "      <td>1169</td>\n",
       "      <td>...</td>\n",
       "      <td>https://i.ytimg.com/vi/-0Rj7qcLu1A/default.jpg</td>\n",
       "      <td>False</td>\n",
       "      <td>False</td>\n",
       "      <td>False</td>\n",
       "      <td>NEW MERCH UP (Peterson Sorting Hat) Spread the...</td>\n",
       "      <td>CA</td>\n",
       "      <td>2018</td>\n",
       "      <td>4</td>\n",
       "      <td>1.35</td>\n",
       "      <td>1 days</td>\n",
       "    </tr>\n",
       "    <tr>\n",
       "      <th>3775</th>\n",
       "      <td>-4s2MeUgduo</td>\n",
       "      <td>2018-03-22</td>\n",
       "      <td>The Weirdest Mystery Tech Yet...</td>\n",
       "      <td>Austin Evans</td>\n",
       "      <td>28</td>\n",
       "      <td>2018-03-20 15:44:52</td>\n",
       "      <td>tech|\"unboxing\"|\"gadget\"|\"mystery tech\"|\"lamar...</td>\n",
       "      <td>296237</td>\n",
       "      <td>38776</td>\n",
       "      <td>466</td>\n",
       "      <td>...</td>\n",
       "      <td>https://i.ytimg.com/vi/-4s2MeUgduo/default.jpg</td>\n",
       "      <td>False</td>\n",
       "      <td>False</td>\n",
       "      <td>False</td>\n",
       "      <td>From a KFC phone to a gadget that brings pain ...</td>\n",
       "      <td>US</td>\n",
       "      <td>2018</td>\n",
       "      <td>3</td>\n",
       "      <td>0.45</td>\n",
       "      <td>1 days</td>\n",
       "    </tr>\n",
       "    <tr>\n",
       "      <th>3795</th>\n",
       "      <td>-4s2MeUgduo</td>\n",
       "      <td>2018-03-23</td>\n",
       "      <td>The Weirdest Mystery Tech Yet...</td>\n",
       "      <td>Austin Evans</td>\n",
       "      <td>28</td>\n",
       "      <td>2018-03-20 15:44:52</td>\n",
       "      <td>tech|\"unboxing\"|\"gadget\"|\"mystery tech\"|\"lamar...</td>\n",
       "      <td>334239</td>\n",
       "      <td>41522</td>\n",
       "      <td>533</td>\n",
       "      <td>...</td>\n",
       "      <td>https://i.ytimg.com/vi/-4s2MeUgduo/default.jpg</td>\n",
       "      <td>False</td>\n",
       "      <td>False</td>\n",
       "      <td>False</td>\n",
       "      <td>From a KFC phone to a gadget that brings pain ...</td>\n",
       "      <td>US</td>\n",
       "      <td>2018</td>\n",
       "      <td>3</td>\n",
       "      <td>0.44</td>\n",
       "      <td>2 days</td>\n",
       "    </tr>\n",
       "    <tr>\n",
       "      <th>3815</th>\n",
       "      <td>-4s2MeUgduo</td>\n",
       "      <td>2018-03-24</td>\n",
       "      <td>The Weirdest Mystery Tech Yet...</td>\n",
       "      <td>Austin Evans</td>\n",
       "      <td>28</td>\n",
       "      <td>2018-03-20 15:44:52</td>\n",
       "      <td>tech|\"unboxing\"|\"gadget\"|\"mystery tech\"|\"lamar...</td>\n",
       "      <td>353132</td>\n",
       "      <td>43036</td>\n",
       "      <td>563</td>\n",
       "      <td>...</td>\n",
       "      <td>https://i.ytimg.com/vi/-4s2MeUgduo/default.jpg</td>\n",
       "      <td>False</td>\n",
       "      <td>False</td>\n",
       "      <td>False</td>\n",
       "      <td>From a KFC phone to a gadget that brings pain ...</td>\n",
       "      <td>US</td>\n",
       "      <td>2018</td>\n",
       "      <td>3</td>\n",
       "      <td>0.37</td>\n",
       "      <td>3 days</td>\n",
       "    </tr>\n",
       "  </tbody>\n",
       "</table>\n",
       "<p>5 rows × 21 columns</p>\n",
       "</div>"
      ],
      "text/plain": [
       "         video_id trending_date  \\\n",
       "382   -0DjA_r32uQ    2018-02-14   \n",
       "1049  -0Rj7qcLu1A    2018-04-25   \n",
       "3775  -4s2MeUgduo    2018-03-22   \n",
       "3795  -4s2MeUgduo    2018-03-23   \n",
       "3815  -4s2MeUgduo    2018-03-24   \n",
       "\n",
       "                                                  title  \\\n",
       "382   2.12 - Q & Current Event Analysis from Feb 11t...   \n",
       "1049  The moment Jordan Peterson asked a hard questi...   \n",
       "3775                   The Weirdest Mystery Tech Yet...   \n",
       "3795                   The Weirdest Mystery Tech Yet...   \n",
       "3815                   The Weirdest Mystery Tech Yet...   \n",
       "\n",
       "                channel_title  category_id        publish_time  \\\n",
       "382   Destroying the Illusion           27 2018-02-12 23:44:59   \n",
       "1049              Mind Temple           27 2018-04-24 05:06:55   \n",
       "3775             Austin Evans           28 2018-03-20 15:44:52   \n",
       "3795             Austin Evans           28 2018-03-20 15:44:52   \n",
       "3815             Austin Evans           28 2018-03-20 15:44:52   \n",
       "\n",
       "                                                   tags   views  likes  \\\n",
       "382   jordan sather|\"destroying the illusion\"|\"qanon...   57494   2190   \n",
       "1049  2018|\"Jordan peterson\"|\"jordan peterson cathy ...  507781   5224   \n",
       "3775  tech|\"unboxing\"|\"gadget\"|\"mystery tech\"|\"lamar...  296237  38776   \n",
       "3795  tech|\"unboxing\"|\"gadget\"|\"mystery tech\"|\"lamar...  334239  41522   \n",
       "3815  tech|\"unboxing\"|\"gadget\"|\"mystery tech\"|\"lamar...  353132  43036   \n",
       "\n",
       "      dislikes  ...                                  thumbnail_link  \\\n",
       "382         62  ...  https://i.ytimg.com/vi/-0DjA_r32uQ/default.jpg   \n",
       "1049      1169  ...  https://i.ytimg.com/vi/-0Rj7qcLu1A/default.jpg   \n",
       "3775       466  ...  https://i.ytimg.com/vi/-4s2MeUgduo/default.jpg   \n",
       "3795       533  ...  https://i.ytimg.com/vi/-4s2MeUgduo/default.jpg   \n",
       "3815       563  ...  https://i.ytimg.com/vi/-4s2MeUgduo/default.jpg   \n",
       "\n",
       "     comments_disabled  ratings_disabled  video_error_or_removed  \\\n",
       "382              False             False                   False   \n",
       "1049             False             False                   False   \n",
       "3775             False             False                   False   \n",
       "3795             False             False                   False   \n",
       "3815             False             False                   False   \n",
       "\n",
       "                                            description country  year  month  \\\n",
       "382   Find me on:\\nhttp://www.destroyingtheillusion....      CA  2018      2   \n",
       "1049  NEW MERCH UP (Peterson Sorting Hat) Spread the...      CA  2018      4   \n",
       "3775  From a KFC phone to a gadget that brings pain ...      US  2018      3   \n",
       "3795  From a KFC phone to a gadget that brings pain ...      US  2018      3   \n",
       "3815  From a KFC phone to a gadget that brings pain ...      US  2018      3   \n",
       "\n",
       "      comments_ratio  time_until_trending  \n",
       "382             1.34               1 days  \n",
       "1049            1.35               1 days  \n",
       "3775            0.45               1 days  \n",
       "3795            0.44               2 days  \n",
       "3815            0.37               3 days  \n",
       "\n",
       "[5 rows x 21 columns]"
      ]
     },
     "execution_count": 27,
     "metadata": {},
     "output_type": "execute_result"
    }
   ],
   "source": [
    "df_education = df[df['category_id'].isin([27, 28])].reset_index(drop=True)\n",
    "df_education.sort_values(by=['video_id', 'trending_date'], inplace=True)\n",
    "df_education.head()"
   ]
  },
  {
   "cell_type": "markdown",
   "metadata": {},
   "source": [
    "<b>I'd like to know, in average, how long time it takes from a video being uploaded until it starts trending. I'm only interested in our specific categories. \n",
    "\n",
    "To find this, I will remove duplicates and keep the earliest trending_date.</b>"
   ]
  },
  {
   "cell_type": "code",
   "execution_count": 35,
   "metadata": {},
   "outputs": [
    {
     "name": "stdout",
     "output_type": "stream",
     "text": [
      "For categories 'Education' and 'Science & Technology',\n",
      "the average time from upload to trending is 18 hours.\n"
     ]
    }
   ],
   "source": [
    "df_education_last = df_education.drop_duplicates(subset='video_id', keep='first').reset_index(drop=True)\n",
    "t_time = df_education_last.agg({'time_until_trending': np.mean}, as_index=False).dt.round(freq='H')\n",
    "tt_time = t_time.dt.components['hours']\n",
    "\n",
    "print('''For categories 'Education' and 'Science & Technology',\n",
    "the average time from upload to trending is ''' + str(tt_time[0]) + ' hours.')"
   ]
  },
  {
   "cell_type": "code",
   "execution_count": 36,
   "metadata": {
    "scrolled": true
   },
   "outputs": [
    {
     "name": "stdout",
     "output_type": "stream",
     "text": [
      "There were 1192 videos within Education and Science & Technology trending between June-Dec 2018\n"
     ]
    }
   ],
   "source": [
    "videos = df_education_last.video_id.count()\n",
    "print('There were ' + str(videos) + ' videos within Education and Science & Technology trending between June-Dec 2018')"
   ]
  },
  {
   "cell_type": "markdown",
   "metadata": {},
   "source": [
    "<b>I'd also like to know the averagetrend duration. I will merge the above DataFrame with a DataFrame containing the latest trending_date.</b>"
   ]
  },
  {
   "cell_type": "code",
   "execution_count": 37,
   "metadata": {},
   "outputs": [],
   "source": [
    "latest_trending_date = df_education[['video_id', 'trending_date']].reset_index(drop=True)\n",
    "latest_trending_date.drop_duplicates(subset='video_id', keep='last', inplace=True)"
   ]
  },
  {
   "cell_type": "code",
   "execution_count": 38,
   "metadata": {},
   "outputs": [],
   "source": [
    "trending_duration = df_education_last.merge(latest_trending_date, how='left', on='video_id', suffixes=['_first', '_last']).reset_index(drop=True)"
   ]
  },
  {
   "cell_type": "code",
   "execution_count": 39,
   "metadata": {},
   "outputs": [],
   "source": [
    "trending_duration['trend_duration'] = trending_duration['trending_date_last'] - trending_duration['trending_date_first']"
   ]
  },
  {
   "cell_type": "code",
   "execution_count": 40,
   "metadata": {},
   "outputs": [
    {
     "name": "stdout",
     "output_type": "stream",
     "text": [
      "For categories 'Education' and 'Science & Technology',\n",
      "the average trending duration is 3 days and 3 hours\n"
     ]
    }
   ],
   "source": [
    "t_duration = trending_duration.agg({'trend_duration': np.mean}, as_index=False).dt.round(freq='H')\n",
    "tt_duration_hours = t_duration.dt.components['hours']\n",
    "tt_duration_days = t_duration.dt.components['days']\n",
    "print('''For categories 'Education' and 'Science & Technology',\n",
    "the average trending duration is ''' + str(tt_duration_days[0]) + ' days and '+ str(tt_duration_hours[0]) + ' hours')"
   ]
  },
  {
   "cell_type": "markdown",
   "metadata": {},
   "source": [
    "<b>Let's find out if there's correlation between comments ratio and views</b>"
   ]
  },
  {
   "cell_type": "code",
   "execution_count": 42,
   "metadata": {},
   "outputs": [],
   "source": [
    "x=df_education.comments_ratio\n",
    "y=df_education.views"
   ]
  },
  {
   "cell_type": "code",
   "execution_count": 46,
   "metadata": {},
   "outputs": [
    {
     "data": {
      "text/plain": [
       "<Figure size 432x288 with 0 Axes>"
      ]
     },
     "metadata": {},
     "output_type": "display_data"
    },
    {
     "data": {
      "image/png": "[encoded data removed]",
      "text/plain": [
       "<Figure size 792x504 with 1 Axes>"
      ]
     },
     "metadata": {},
     "output_type": "display_data"
    }
   ],
   "source": [
    "plt.clf()\n",
    "fig, ax = plt.subplots(figsize=(11,7))\n",
    "sns.set_theme(style=\"whitegrid\")\n",
    "fig = sns.regplot(x=x, y=y, ci=None, color='cornflowerblue', scatter_kws=({'alpha':0.8})\n",
    "                  , line_kws={'color':'orange', 'lw':3})\n",
    "sns.despine(left=True, bottom=True, right=True)\n",
    "plt.ticklabel_format(style = 'plain')\n",
    "ax.set_xlabel('Comments ratio', size=12, weight='bold')\n",
    "ax.set_ylabel('Views', size=12, weight='bold')\n",
    "ax.set_title('Comments ratio per Views', size=20, weight='bold')\n",
    "plt.yticks(ticks = [1000000, 10000000, 20000000, 30000000, 40000000],\n",
    "           labels=['1M', '10M', '20M', '30M', '40M'], weight='demi')\n",
    "plt.xticks(ticks = [0, 0.5, 1, 1.5, 2, 2.5, 3],\n",
    "           labels=['0%', '0.5%', '1%', '1.5%', '2%', '2.5%', '3%'], weight='demi')\n",
    "plt.xlim(-0.01,3)\n",
    "ax.grid(b=True, axis='both',alpha=0.3)\n",
    "#plt.savefig('temp3.png', transparent=True, bbox_inches='tight')\n",
    "plt.show()"
   ]
  },
  {
   "cell_type": "markdown",
   "metadata": {},
   "source": [
    "My conclusion is that more comments does not give you more views. However what we don't know from this dataset is if more comments makes you more likely to become trending, which in it self might give more views! This dataset only contains videos that are trending, so we can't compare that."
   ]
  },
  {
   "cell_type": "markdown",
   "metadata": {},
   "source": [
    "<b> I would like to see the most viewed channels within my categories </b>"
   ]
  },
  {
   "cell_type": "code",
   "execution_count": 49,
   "metadata": {},
   "outputs": [
    {
     "data": {
      "text/html": [
       "<div>\n",
       "<style scoped>\n",
       "    .dataframe tbody tr th:only-of-type {\n",
       "        vertical-align: middle;\n",
       "    }\n",
       "\n",
       "    .dataframe tbody tr th {\n",
       "        vertical-align: top;\n",
       "    }\n",
       "\n",
       "    .dataframe thead th {\n",
       "        text-align: right;\n",
       "    }\n",
       "</style>\n",
       "<table border=\"1\" class=\"dataframe\">\n",
       "  <thead>\n",
       "    <tr style=\"text-align: right;\">\n",
       "      <th></th>\n",
       "      <th>channel_title</th>\n",
       "      <th>views</th>\n",
       "    </tr>\n",
       "  </thead>\n",
       "  <tbody>\n",
       "    <tr>\n",
       "      <th>0</th>\n",
       "      <td>SpaceX</td>\n",
       "      <td>1165102192</td>\n",
       "    </tr>\n",
       "    <tr>\n",
       "      <th>1</th>\n",
       "      <td>AsapSCIENCE</td>\n",
       "      <td>866460834</td>\n",
       "    </tr>\n",
       "    <tr>\n",
       "      <th>2</th>\n",
       "      <td>BostonDynamics</td>\n",
       "      <td>502286010</td>\n",
       "    </tr>\n",
       "    <tr>\n",
       "      <th>3</th>\n",
       "      <td>Apple</td>\n",
       "      <td>442083416</td>\n",
       "    </tr>\n",
       "    <tr>\n",
       "      <th>4</th>\n",
       "      <td>Kurzgesagt – In a Nutshell</td>\n",
       "      <td>355357876</td>\n",
       "    </tr>\n",
       "    <tr>\n",
       "      <th>5</th>\n",
       "      <td>Tyler, The Creator</td>\n",
       "      <td>338243833</td>\n",
       "    </tr>\n",
       "    <tr>\n",
       "      <th>6</th>\n",
       "      <td>Unbox Therapy</td>\n",
       "      <td>319395361</td>\n",
       "    </tr>\n",
       "    <tr>\n",
       "      <th>7</th>\n",
       "      <td>Marques Brownlee</td>\n",
       "      <td>202047370</td>\n",
       "    </tr>\n",
       "    <tr>\n",
       "      <th>8</th>\n",
       "      <td>Linus Tech Tips</td>\n",
       "      <td>178041629</td>\n",
       "    </tr>\n",
       "    <tr>\n",
       "      <th>9</th>\n",
       "      <td>CrazyRussianHacker</td>\n",
       "      <td>177922606</td>\n",
       "    </tr>\n",
       "  </tbody>\n",
       "</table>\n",
       "</div>"
      ],
      "text/plain": [
       "                channel_title       views\n",
       "0                      SpaceX  1165102192\n",
       "1                 AsapSCIENCE   866460834\n",
       "2              BostonDynamics   502286010\n",
       "3                       Apple   442083416\n",
       "4  Kurzgesagt – In a Nutshell   355357876\n",
       "5          Tyler, The Creator   338243833\n",
       "6               Unbox Therapy   319395361\n",
       "7            Marques Brownlee   202047370\n",
       "8             Linus Tech Tips   178041629\n",
       "9          CrazyRussianHacker   177922606"
      ]
     },
     "execution_count": 49,
     "metadata": {},
     "output_type": "execute_result"
    }
   ],
   "source": [
    "top_channels = df_education.groupby('channel_title').views.sum().sort_values(ascending=False).reset_index().head(10)\n",
    "top_channels"
   ]
  },
  {
   "cell_type": "markdown",
   "metadata": {},
   "source": [
    "<b> .. And also the most popular tag words! Is math in there?</b>"
   ]
  },
  {
   "cell_type": "code",
   "execution_count": 53,
   "metadata": {},
   "outputs": [],
   "source": [
    "df_education_latestvalue = df_education.drop_duplicates(subset='video_id', keep='last').reset_index(drop=True)\n",
    "tag_words = df_education_latestvalue.tags.str.split(pat='|', expand=True).stack().value_counts().reset_index()"
   ]
  },
  {
   "cell_type": "code",
   "execution_count": 54,
   "metadata": {},
   "outputs": [
    {
     "data": {
      "text/html": [
       "<div>\n",
       "<style scoped>\n",
       "    .dataframe tbody tr th:only-of-type {\n",
       "        vertical-align: middle;\n",
       "    }\n",
       "\n",
       "    .dataframe tbody tr th {\n",
       "        vertical-align: top;\n",
       "    }\n",
       "\n",
       "    .dataframe thead th {\n",
       "        text-align: right;\n",
       "    }\n",
       "</style>\n",
       "<table border=\"1\" class=\"dataframe\">\n",
       "  <thead>\n",
       "    <tr style=\"text-align: right;\">\n",
       "      <th></th>\n",
       "      <th>index</th>\n",
       "      <th>0</th>\n",
       "    </tr>\n",
       "  </thead>\n",
       "  <tbody>\n",
       "    <tr>\n",
       "      <th>0</th>\n",
       "      <td>\"science\"</td>\n",
       "      <td>221</td>\n",
       "    </tr>\n",
       "    <tr>\n",
       "      <th>1</th>\n",
       "      <td>\"education\"</td>\n",
       "      <td>134</td>\n",
       "    </tr>\n",
       "    <tr>\n",
       "      <th>2</th>\n",
       "      <td>\"technology\"</td>\n",
       "      <td>117</td>\n",
       "    </tr>\n",
       "    <tr>\n",
       "      <th>3</th>\n",
       "      <td>\"space\"</td>\n",
       "      <td>86</td>\n",
       "    </tr>\n",
       "    <tr>\n",
       "      <th>4</th>\n",
       "      <td>\"learn\"</td>\n",
       "      <td>81</td>\n",
       "    </tr>\n",
       "  </tbody>\n",
       "</table>\n",
       "</div>"
      ],
      "text/plain": [
       "          index    0\n",
       "0     \"science\"  221\n",
       "1   \"education\"  134\n",
       "2  \"technology\"  117\n",
       "3       \"space\"   86\n",
       "4       \"learn\"   81"
      ]
     },
     "execution_count": 54,
     "metadata": {},
     "output_type": "execute_result"
    }
   ],
   "source": [
    "tag_words.head(5)"
   ]
  },
  {
   "cell_type": "code",
   "execution_count": 55,
   "metadata": {},
   "outputs": [
    {
     "data": {
      "text/html": [
       "<div>\n",
       "<style scoped>\n",
       "    .dataframe tbody tr th:only-of-type {\n",
       "        vertical-align: middle;\n",
       "    }\n",
       "\n",
       "    .dataframe tbody tr th {\n",
       "        vertical-align: top;\n",
       "    }\n",
       "\n",
       "    .dataframe thead th {\n",
       "        text-align: right;\n",
       "    }\n",
       "</style>\n",
       "<table border=\"1\" class=\"dataframe\">\n",
       "  <thead>\n",
       "    <tr style=\"text-align: right;\">\n",
       "      <th></th>\n",
       "      <th>index</th>\n",
       "      <th>0</th>\n",
       "    </tr>\n",
       "  </thead>\n",
       "  <tbody>\n",
       "    <tr>\n",
       "      <th>164</th>\n",
       "      <td>\"math\"</td>\n",
       "      <td>12</td>\n",
       "    </tr>\n",
       "  </tbody>\n",
       "</table>\n",
       "</div>"
      ],
      "text/plain": [
       "      index   0\n",
       "164  \"math\"  12"
      ]
     },
     "execution_count": 55,
     "metadata": {},
     "output_type": "execute_result"
    }
   ],
   "source": [
    "tag_words[tag_words['index'] == '''\"math\"''']"
   ]
  },
  {
   "cell_type": "code",
   "execution_count": null,
   "metadata": {},
   "outputs": [],
   "source": []
  },
  {
   "cell_type": "code",
   "execution_count": 78,
   "metadata": {},
   "outputs": [],
   "source": []
  },
  {
   "cell_type": "code",
   "execution_count": null,
   "metadata": {},
   "outputs": [],
   "source": []
  }
 ],
 "metadata": {
  "kernelspec": {
   "display_name": "Python 3",
   "language": "python",
   "name": "python3"
  },
  "language_info": {
   "codemirror_mode": {
    "name": "ipython",
    "version": 3
   },
   "file_extension": ".py",
   "mimetype": "text/x-python",
   "name": "python",
   "nbconvert_exporter": "python",
   "pygments_lexer": "ipython3",
   "version": "3.7.6"
  }
 },
 "nbformat": 4,
 "nbformat_minor": 4
}
