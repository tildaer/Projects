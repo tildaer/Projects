{
 "cells": [
  {
   "cell_type": "markdown",
   "metadata": {},
   "source": [
    "# Amazon Books Dataset\n",
    "I used this dataset to practice cleaning data and then some simple visualisations"
   ]
  },
  {
   "cell_type": "code",
   "execution_count": 2,
   "metadata": {},
   "outputs": [],
   "source": [
    "import pandas as pd\n",
    "import matplotlib.pyplot as plt\n",
    "import datetime as dt"
   ]
  },
  {
   "cell_type": "code",
   "execution_count": 4,
   "metadata": {},
   "outputs": [
    {
     "data": {
      "text/html": [
       "<div>\n",
       "<style scoped>\n",
       "    .dataframe tbody tr th:only-of-type {\n",
       "        vertical-align: middle;\n",
       "    }\n",
       "\n",
       "    .dataframe tbody tr th {\n",
       "        vertical-align: top;\n",
       "    }\n",
       "\n",
       "    .dataframe thead th {\n",
       "        text-align: right;\n",
       "    }\n",
       "</style>\n",
       "<table border=\"1\" class=\"dataframe\">\n",
       "  <thead>\n",
       "    <tr style=\"text-align: right;\">\n",
       "      <th></th>\n",
       "      <th>Name</th>\n",
       "      <th>Author</th>\n",
       "      <th>User Rating</th>\n",
       "      <th>Reviews</th>\n",
       "      <th>Price</th>\n",
       "      <th>Year</th>\n",
       "      <th>Genre</th>\n",
       "    </tr>\n",
       "  </thead>\n",
       "  <tbody>\n",
       "    <tr>\n",
       "      <th>0</th>\n",
       "      <td>10-Day Green Smoothie Cleanse</td>\n",
       "      <td>JJ Smith</td>\n",
       "      <td>4.7</td>\n",
       "      <td>17350.0</td>\n",
       "      <td>8.0</td>\n",
       "      <td>2016.0</td>\n",
       "      <td>Non Fiction</td>\n",
       "    </tr>\n",
       "    <tr>\n",
       "      <th>1</th>\n",
       "      <td>11/22/63: A Novel</td>\n",
       "      <td>Stephen King</td>\n",
       "      <td>4.6</td>\n",
       "      <td>2052.0</td>\n",
       "      <td>22.0</td>\n",
       "      <td>2011.0</td>\n",
       "      <td>Fiction</td>\n",
       "    </tr>\n",
       "    <tr>\n",
       "      <th>2</th>\n",
       "      <td>12 Rules for Life: An Antidote to Chaos</td>\n",
       "      <td>Jordan B. Peterson</td>\n",
       "      <td>4.7</td>\n",
       "      <td>18979.0</td>\n",
       "      <td>15.0</td>\n",
       "      <td>2018.0</td>\n",
       "      <td>Non Fiction</td>\n",
       "    </tr>\n",
       "    <tr>\n",
       "      <th>3</th>\n",
       "      <td>1984 (Signet Classics)</td>\n",
       "      <td>George Orwell</td>\n",
       "      <td>4.7</td>\n",
       "      <td>21424.0</td>\n",
       "      <td>6.0</td>\n",
       "      <td>2017.0</td>\n",
       "      <td>Fiction</td>\n",
       "    </tr>\n",
       "    <tr>\n",
       "      <th>4</th>\n",
       "      <td>5,000 Awesome Facts (About Everything!) (Natio...</td>\n",
       "      <td>National Geographic Kids</td>\n",
       "      <td>4.8</td>\n",
       "      <td>7665.0</td>\n",
       "      <td>12.0</td>\n",
       "      <td>2019.0</td>\n",
       "      <td>Non Fiction</td>\n",
       "    </tr>\n",
       "  </tbody>\n",
       "</table>\n",
       "</div>"
      ],
      "text/plain": [
       "                                                Name  \\\n",
       "0                      10-Day Green Smoothie Cleanse   \n",
       "1                                  11/22/63: A Novel   \n",
       "2            12 Rules for Life: An Antidote to Chaos   \n",
       "3                             1984 (Signet Classics)   \n",
       "4  5,000 Awesome Facts (About Everything!) (Natio...   \n",
       "\n",
       "                     Author  User Rating  Reviews  Price    Year        Genre  \n",
       "0                  JJ Smith          4.7  17350.0    8.0  2016.0  Non Fiction  \n",
       "1              Stephen King          4.6   2052.0   22.0  2011.0      Fiction  \n",
       "2        Jordan B. Peterson          4.7  18979.0   15.0  2018.0  Non Fiction  \n",
       "3             George Orwell          4.7  21424.0    6.0  2017.0      Fiction  \n",
       "4  National Geographic Kids          4.8   7665.0   12.0  2019.0  Non Fiction  "
      ]
     },
     "execution_count": 4,
     "metadata": {},
     "output_type": "execute_result"
    }
   ],
   "source": [
    "books = pd.read_csv('Bookamazon_demo.csv')\n",
    "books.head()"
   ]
  },
  {
   "cell_type": "code",
   "execution_count": 5,
   "metadata": {},
   "outputs": [],
   "source": [
    "# Converting the Year-column to datetime format\n",
    "books['Year'] = books['Year'] + 0.01\n",
    "books['Year'].round(decimals=2)\n",
    "books['Year'] = pd.to_datetime(books['Year'].map('{:.2f}'.format), format='%Y.%m', errors='coerce')"
   ]
  },
  {
   "cell_type": "code",
   "execution_count": 6,
   "metadata": {},
   "outputs": [
    {
     "name": "stdout",
     "output_type": "stream",
     "text": [
      "<class 'pandas.core.frame.DataFrame'>\n",
      "RangeIndex: 550 entries, 0 to 549\n",
      "Data columns (total 7 columns):\n",
      " #   Column       Non-Null Count  Dtype         \n",
      "---  ------       --------------  -----         \n",
      " 0   Name         550 non-null    object        \n",
      " 1   Author       550 non-null    object        \n",
      " 2   User Rating  434 non-null    float64       \n",
      " 3   Reviews      475 non-null    float64       \n",
      " 4   Price        497 non-null    float64       \n",
      " 5   Year         548 non-null    datetime64[ns]\n",
      " 6   Genre        550 non-null    object        \n",
      "dtypes: datetime64[ns](1), float64(3), object(3)\n",
      "memory usage: 30.2+ KB\n"
     ]
    }
   ],
   "source": [
    "books.info()"
   ]
  },
  {
   "cell_type": "code",
   "execution_count": 7,
   "metadata": {},
   "outputs": [
    {
     "data": {
      "text/plain": [
       "Name           0.0\n",
       "Author         0.0\n",
       "User Rating    0.0\n",
       "Reviews        0.0\n",
       "Price          0.0\n",
       "Year           0.0\n",
       "Genre          0.0\n",
       "dtype: float64"
      ]
     },
     "execution_count": 7,
     "metadata": {},
     "output_type": "execute_result"
    }
   ],
   "source": [
    "# Look for complete duplicates\n",
    "books_duplicates = books.duplicated()\n",
    "books[books_duplicates].sum()"
   ]
  },
  {
   "cell_type": "code",
   "execution_count": 9,
   "metadata": {},
   "outputs": [
    {
     "name": "stdout",
     "output_type": "stream",
     "text": [
      "There are 295 duplicated rows with the same Name, Author & Genre\n"
     ]
    }
   ],
   "source": [
    "# Look for duplicates based on Name, Author & Genre\n",
    "column_names = ['Name', 'Author', 'Genre']\n",
    "duplicates = books.duplicated(subset = column_names, keep=False)\n",
    "dups = books[duplicates].shape[0]\n",
    "print('There are ' + str(dups) + ' duplicated rows with the same Name, Author & Genre')"
   ]
  },
  {
   "cell_type": "code",
   "execution_count": 10,
   "metadata": {},
   "outputs": [],
   "source": [
    "# Sort by Author, User Rating and Year. This to keep the row with \n",
    "# highest possible Rating and earliest publishing date\n",
    "sorted_by = ['Author', 'User Rating', 'Year']\n",
    "\n",
    "books.sort_values(by=sorted_by, inplace=True)\n",
    "books.drop_duplicates(subset=column_names, keep='first', inplace=True)"
   ]
  },
  {
   "cell_type": "code",
   "execution_count": 11,
   "metadata": {},
   "outputs": [],
   "source": [
    "# Making sure no duplicates left based on Name, Author & Genre\n",
    "duplicates = books.duplicated(subset = column_names, keep=False)\n",
    "assert (sum(duplicates) == 0)"
   ]
  },
  {
   "cell_type": "code",
   "execution_count": 12,
   "metadata": {},
   "outputs": [],
   "source": [
    "# Creating rating categories based on user rating \n",
    "# ranges = [0, 0.4, 1.4, 2.4, 3.4, 4.4, 5]\n",
    "# group_names = ['0','1', '2', '3', '4', '5']\n",
    "# books['Rating Group'] = pd.cut(books['User Rating'], bins=ranges, labels=group_names)"
   ]
  },
  {
   "cell_type": "code",
   "execution_count": 46,
   "metadata": {},
   "outputs": [],
   "source": [
    "# I will use the mean price for books that have a missing price value.\n",
    "mean_price = books['Price'].mean()\n",
    "mean_price = round(mean_price, 1)"
   ]
  },
  {
   "cell_type": "code",
   "execution_count": 47,
   "metadata": {},
   "outputs": [],
   "source": [
    "# Fill na's\n",
    "books = books.fillna({'Price': mean_price})"
   ]
  },
  {
   "cell_type": "code",
   "execution_count": 48,
   "metadata": {},
   "outputs": [
    {
     "data": {
      "text/plain": [
       "Name           0\n",
       "Author         0\n",
       "User Rating    0\n",
       "Reviews        0\n",
       "Price          0\n",
       "Year           0\n",
       "Genre          0\n",
       "dtype: int64"
      ]
     },
     "execution_count": 48,
     "metadata": {},
     "output_type": "execute_result"
    }
   ],
   "source": [
    "books.isna().sum()"
   ]
  },
  {
   "cell_type": "code",
   "execution_count": 49,
   "metadata": {},
   "outputs": [
    {
     "data": {
      "text/html": [
       "<div>\n",
       "<style scoped>\n",
       "    .dataframe tbody tr th:only-of-type {\n",
       "        vertical-align: middle;\n",
       "    }\n",
       "\n",
       "    .dataframe tbody tr th {\n",
       "        vertical-align: top;\n",
       "    }\n",
       "\n",
       "    .dataframe thead th {\n",
       "        text-align: right;\n",
       "    }\n",
       "</style>\n",
       "<table border=\"1\" class=\"dataframe\">\n",
       "  <thead>\n",
       "    <tr style=\"text-align: right;\">\n",
       "      <th></th>\n",
       "      <th>Name</th>\n",
       "      <th>Author</th>\n",
       "      <th>User Rating</th>\n",
       "      <th>Reviews</th>\n",
       "      <th>Price</th>\n",
       "      <th>Year</th>\n",
       "      <th>Genre</th>\n",
       "    </tr>\n",
       "  </thead>\n",
       "  <tbody>\n",
       "    <tr>\n",
       "      <th>56</th>\n",
       "      <td>Cutting for Stone</td>\n",
       "      <td>Abraham Verghese</td>\n",
       "      <td>4.6</td>\n",
       "      <td>4866.0</td>\n",
       "      <td>11.0</td>\n",
       "      <td>2010-01-01</td>\n",
       "      <td>Fiction</td>\n",
       "    </tr>\n",
       "    <tr>\n",
       "      <th>232</th>\n",
       "      <td>Milk and Vine: Inspirational Quotes From Class...</td>\n",
       "      <td>Adam Gasiewski</td>\n",
       "      <td>4.4</td>\n",
       "      <td>3113.0</td>\n",
       "      <td>6.0</td>\n",
       "      <td>2017-01-01</td>\n",
       "      <td>Non Fiction</td>\n",
       "    </tr>\n",
       "    <tr>\n",
       "      <th>133</th>\n",
       "      <td>Go the F**k to Sleep</td>\n",
       "      <td>Adam Mansbach</td>\n",
       "      <td>4.8</td>\n",
       "      <td>9568.0</td>\n",
       "      <td>9.0</td>\n",
       "      <td>2011-01-01</td>\n",
       "      <td>Fiction</td>\n",
       "    </tr>\n",
       "    <tr>\n",
       "      <th>529</th>\n",
       "      <td>What Should Danny Do? (The Power to Choose Ser...</td>\n",
       "      <td>Adir Levy</td>\n",
       "      <td>4.6</td>\n",
       "      <td>8170.0</td>\n",
       "      <td>13.0</td>\n",
       "      <td>2019-01-01</td>\n",
       "      <td>Fiction</td>\n",
       "    </tr>\n",
       "    <tr>\n",
       "      <th>227</th>\n",
       "      <td>Make Your Bed: Little Things That Can Change Y...</td>\n",
       "      <td>Admiral William H. McRaven</td>\n",
       "      <td>4.7</td>\n",
       "      <td>0.0</td>\n",
       "      <td>11.0</td>\n",
       "      <td>2017-01-01</td>\n",
       "      <td>Non Fiction</td>\n",
       "    </tr>\n",
       "  </tbody>\n",
       "</table>\n",
       "</div>"
      ],
      "text/plain": [
       "                                                  Name  \\\n",
       "56                                   Cutting for Stone   \n",
       "232  Milk and Vine: Inspirational Quotes From Class...   \n",
       "133                               Go the F**k to Sleep   \n",
       "529  What Should Danny Do? (The Power to Choose Ser...   \n",
       "227  Make Your Bed: Little Things That Can Change Y...   \n",
       "\n",
       "                         Author  User Rating  Reviews  Price       Year  \\\n",
       "56             Abraham Verghese          4.6   4866.0   11.0 2010-01-01   \n",
       "232              Adam Gasiewski          4.4   3113.0    6.0 2017-01-01   \n",
       "133               Adam Mansbach          4.8   9568.0    9.0 2011-01-01   \n",
       "529                   Adir Levy          4.6   8170.0   13.0 2019-01-01   \n",
       "227  Admiral William H. McRaven          4.7      0.0   11.0 2017-01-01   \n",
       "\n",
       "           Genre  \n",
       "56       Fiction  \n",
       "232  Non Fiction  \n",
       "133      Fiction  \n",
       "529      Fiction  \n",
       "227  Non Fiction  "
      ]
     },
     "execution_count": 49,
     "metadata": {},
     "output_type": "execute_result"
    }
   ],
   "source": [
    "books.head()"
   ]
  },
  {
   "cell_type": "code",
   "execution_count": 50,
   "metadata": {},
   "outputs": [
    {
     "data": {
      "image/png": "[encoded data removed]",
      "text/plain": [
       "<Figure size 720x288 with 1 Axes>"
      ]
     },
     "metadata": {
      "needs_background": "light"
     },
     "output_type": "display_data"
    }
   ],
   "source": [
    "# I'm interested in the mean price of books depending on genre\n",
    "\n",
    "plt.figure(figsize=(10,4))\n",
    "ax = plt.subplot()\n",
    "pricepergenre = books.groupby('Genre')['Price'].mean()\n",
    "plt.bar(x= books['Genre'].unique(), height=pricepergenre, color=['red', 'green'])\n",
    "plt.show()"
   ]
  },
  {
   "cell_type": "code",
   "execution_count": 51,
   "metadata": {},
   "outputs": [],
   "source": [
    "# I'm also interested in the most expensive books for fiction \n",
    "fiction = books[books['Genre'] == 'Fiction'].reset_index(drop=True)\n",
    "fiction_expensive = fiction.sort_values(by='Price', ascending = False).head()"
   ]
  },
  {
   "cell_type": "code",
   "execution_count": 52,
   "metadata": {},
   "outputs": [
    {
     "data": {
      "text/html": [
       "<div>\n",
       "<style scoped>\n",
       "    .dataframe tbody tr th:only-of-type {\n",
       "        vertical-align: middle;\n",
       "    }\n",
       "\n",
       "    .dataframe tbody tr th {\n",
       "        vertical-align: top;\n",
       "    }\n",
       "\n",
       "    .dataframe thead th {\n",
       "        text-align: right;\n",
       "    }\n",
       "</style>\n",
       "<table border=\"1\" class=\"dataframe\">\n",
       "  <thead>\n",
       "    <tr style=\"text-align: right;\">\n",
       "      <th></th>\n",
       "      <th>Name</th>\n",
       "      <th>Author</th>\n",
       "      <th>User Rating</th>\n",
       "      <th>Reviews</th>\n",
       "      <th>Price</th>\n",
       "      <th>Year</th>\n",
       "      <th>Genre</th>\n",
       "    </tr>\n",
       "  </thead>\n",
       "  <tbody>\n",
       "    <tr>\n",
       "      <th>142</th>\n",
       "      <td>The Twilight Saga Collection</td>\n",
       "      <td>Stephenie Meyer</td>\n",
       "      <td>4.7</td>\n",
       "      <td>3801.0</td>\n",
       "      <td>82.0</td>\n",
       "      <td>2009-01-01</td>\n",
       "      <td>Fiction</td>\n",
       "    </tr>\n",
       "    <tr>\n",
       "      <th>62</th>\n",
       "      <td>Harry Potter Paperback Box Set (Books 1-7)</td>\n",
       "      <td>J. K. Rowling</td>\n",
       "      <td>4.6</td>\n",
       "      <td>13471.0</td>\n",
       "      <td>52.0</td>\n",
       "      <td>2016-01-01</td>\n",
       "      <td>Fiction</td>\n",
       "    </tr>\n",
       "    <tr>\n",
       "      <th>3</th>\n",
       "      <td>Watchmen</td>\n",
       "      <td>Alan Moore</td>\n",
       "      <td>4.8</td>\n",
       "      <td>0.0</td>\n",
       "      <td>42.0</td>\n",
       "      <td>2009-01-01</td>\n",
       "      <td>Fiction</td>\n",
       "    </tr>\n",
       "    <tr>\n",
       "      <th>110</th>\n",
       "      <td>The Alchemist</td>\n",
       "      <td>Paulo Coelho</td>\n",
       "      <td>4.6</td>\n",
       "      <td>35799.0</td>\n",
       "      <td>39.0</td>\n",
       "      <td>2014-01-01</td>\n",
       "      <td>Fiction</td>\n",
       "    </tr>\n",
       "    <tr>\n",
       "      <th>42</th>\n",
       "      <td>Fifty Shades Trilogy (Fifty Shades of Grey / F...</td>\n",
       "      <td>E L James</td>\n",
       "      <td>4.5</td>\n",
       "      <td>13964.0</td>\n",
       "      <td>32.0</td>\n",
       "      <td>2012-01-01</td>\n",
       "      <td>Fiction</td>\n",
       "    </tr>\n",
       "  </tbody>\n",
       "</table>\n",
       "</div>"
      ],
      "text/plain": [
       "                                                  Name           Author  \\\n",
       "142                       The Twilight Saga Collection  Stephenie Meyer   \n",
       "62          Harry Potter Paperback Box Set (Books 1-7)    J. K. Rowling   \n",
       "3                                             Watchmen       Alan Moore   \n",
       "110                                      The Alchemist     Paulo Coelho   \n",
       "42   Fifty Shades Trilogy (Fifty Shades of Grey / F...        E L James   \n",
       "\n",
       "     User Rating  Reviews  Price       Year    Genre  \n",
       "142          4.7   3801.0   82.0 2009-01-01  Fiction  \n",
       "62           4.6  13471.0   52.0 2016-01-01  Fiction  \n",
       "3            4.8      0.0   42.0 2009-01-01  Fiction  \n",
       "110          4.6  35799.0   39.0 2014-01-01  Fiction  \n",
       "42           4.5  13964.0   32.0 2012-01-01  Fiction  "
      ]
     },
     "execution_count": 52,
     "metadata": {},
     "output_type": "execute_result"
    }
   ],
   "source": [
    "fiction_expensive"
   ]
  },
  {
   "cell_type": "code",
   "execution_count": 63,
   "metadata": {},
   "outputs": [
    {
     "data": {
      "image/png": "[encoded data removed]",
      "text/plain": [
       "<Figure size 1440x720 with 1 Axes>"
      ]
     },
     "metadata": {
      "needs_background": "light"
     },
     "output_type": "display_data"
    }
   ],
   "source": [
    "plt.figure(figsize=(20,10))\n",
    "ax = plt.subplot()\n",
    "plt.bar(x=fiction_expensive['Name'], height=fiction_expensive['Price'],\n",
    "        color=['red', 'green', 'yellow', 'purple', 'black'])\n",
    "plt.xticks(fiction_expensive['Name'], rotation=15, fontsize=12)\n",
    "plt.ylabel('USD', fontsize=12, rotation='horizontal')\n",
    "ax.set_title('The Five most expensive books within Fiction', fontsize=15)\n",
    "plt.show()"
   ]
  },
  {
   "cell_type": "code",
   "execution_count": null,
   "metadata": {},
   "outputs": [],
   "source": []
  }
 ],
 "metadata": {
  "kernelspec": {
   "display_name": "Python 3",
   "language": "python",
   "name": "python3"
  },
  "language_info": {
   "codemirror_mode": {
    "name": "ipython",
    "version": 3
   },
   "file_extension": ".py",
   "mimetype": "text/x-python",
   "name": "python",
   "nbconvert_exporter": "python",
   "pygments_lexer": "ipython3",
   "version": "3.7.6"
  }
 },
 "nbformat": 4,
 "nbformat_minor": 4
}
